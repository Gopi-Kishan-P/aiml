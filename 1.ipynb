{
 "cells": [
  {
   "cell_type": "code",
   "execution_count": 5,
   "metadata": {},
   "outputs": [
    {
     "name": "stdout",
     "output_type": "stream",
     "text": [
      "['A', 'F', 'G', 'I', 'J']\n"
     ]
    },
    {
     "data": {
      "text/plain": [
       "['A', 'F', 'G', 'I', 'J']"
      ]
     },
     "execution_count": 5,
     "metadata": {},
     "output_type": "execute_result"
    }
   ],
   "source": [
    "def aStarAlgo(start_node, stop_node):\n",
    "\topen_set = set(start_node)\n",
    "\tclose_set = set()\n",
    "\tg = {}\n",
    "\tparent = {}\n",
    "\tg[start_node] = 0\n",
    "\tparent[start_node] = start_node\n",
    "\n",
    "\twhile len(open_set) > 0:\n",
    "\t\tn = None\n",
    "\t\tfor v in open_set :\n",
    "\t\t\tif n==None or g[n] + h[n] > g[v] + h[v]:\n",
    "\t\t\t\tn = v\n",
    "\t\tif n != stop_node and getNeighbor(n) != None:\n",
    "\t\t\tfor (m, weight) in graph_node[n]:\n",
    "\t\t\t\tif m not in open_set and m not in close_set:\n",
    "\t\t\t\t\topen_set.add(m)\n",
    "\t\t\t\t\tparent[m] = n\n",
    "\t\t\t\t\tg[m] = g[n] + weight\n",
    "\t\t\t\telif g[m] > g[n] + weight:\n",
    "\t\t\t\t\tg[m] = g[n] + weight\n",
    "\t\t\t\t\tparent[m] = n\n",
    "\t\t\t\t\tif m in close_set:\n",
    "\t\t\t\t\t\tclose_set.remove(m)\n",
    "\t\t\t\t\t\topen_set.add(m)\n",
    "\t\tif n == None:\n",
    "\t\t\tprint(\"path not found\")\n",
    "\t\t\treturn None\n",
    "\t\t\n",
    "\t\tif n == stop_node:\n",
    "\t\t\tpath = []\n",
    "\t\t\twhile parent[n] != n:\n",
    "\t\t\t\tpath.append(n)\n",
    "\t\t\t\tn = parent[n]\n",
    "\t\t\tpath.append(start_node)\n",
    "\t\t\tpath.reverse()\n",
    "\t\t\tprint(path)\n",
    "\t\t\treturn path\n",
    "\t\t\n",
    "\t\tclose_set.add(n)\n",
    "\t\topen_set.remove(n)\n",
    "\tprint(\"No path found\")\n",
    "\treturn None\n",
    "\n",
    "\n",
    "def getNeighbor(n):\n",
    "\tif n in graph_node:\n",
    "\t\treturn graph_node[n]\n",
    "\treturn None\n",
    "\n",
    "h = {\n",
    "\t'A':10,\n",
    "\t'B':8,\n",
    "\t'C':5,\n",
    "\t'D':7,\n",
    "\t'E':3,\n",
    "\t'F':6,\n",
    "\t'G':5,\n",
    "\t'H':3,\n",
    "\t'I':1,\n",
    "\t'J':0,\n",
    "}\n",
    "\n",
    "graph_node = {\n",
    "\t'A': [('B', 6), ('F', 3)],\n",
    "\t'B': [('C', 3), ('D', 2)],\n",
    "\t'C': [('D', 1), ('E', 5)],\n",
    "\t'D': [('C', 1), ('E', 8)],\n",
    "\t'E': [('I', 5), ('J', 5)],\n",
    "\t'F': [('G', 1), ('H', 7)],\n",
    "\t'G': [('I', 3)],\n",
    "\t'H': [('I', 2)],\n",
    "\t'I': [('E', 5), ('J', 3)],\n",
    "\t\n",
    "}\n",
    "\n",
    "aStarAlgo('A', 'J')\n"
   ]
  }
 ],
 "metadata": {
  "interpreter": {
   "hash": "1baa965d5efe3ac65b79dfc60c0d706280b1da80fedb7760faf2759126c4f253"
  },
  "kernelspec": {
   "display_name": "Python 3.8.6rc1 64-bit",
   "language": "python",
   "name": "python3"
  },
  "language_info": {
   "codemirror_mode": {
    "name": "ipython",
    "version": 3
   },
   "file_extension": ".py",
   "mimetype": "text/x-python",
   "name": "python",
   "nbconvert_exporter": "python",
   "pygments_lexer": "ipython3",
   "version": "3.8.6rc1"
  },
  "orig_nbformat": 4
 },
 "nbformat": 4,
 "nbformat_minor": 2
}
