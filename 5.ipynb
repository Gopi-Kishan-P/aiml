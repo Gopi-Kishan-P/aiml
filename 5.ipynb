{
 "cells": [
  {
   "cell_type": "code",
   "execution_count": 20,
   "metadata": {},
   "outputs": [
    {
     "name": "stdout",
     "output_type": "stream",
     "text": [
      "Input : \n",
      "[[0.66666667 1.        ]\n",
      " [0.33333333 0.55555556]\n",
      " [1.         0.66666667]]\n",
      "Actual Output : \n",
      "[[0.92]\n",
      " [0.86]\n",
      " [0.89]]\n",
      "Predicted Output : \n",
      "[[0.89329074]\n",
      " [0.88170965]\n",
      " [0.8953984 ]]\n"
     ]
    }
   ],
   "source": [
    "import numpy as np\n",
    "\n",
    "X = np.array(([2,9], [1,5], [3,6]), dtype=float)\n",
    "Y = np.array(([92], [86], [89]), dtype=float)\n",
    "X = X/np.amax(X, axis = 0)\n",
    "Y=Y/100\n",
    "\n",
    "def sigmoid(x):\n",
    "\treturn 1/(1+np.exp(-x))\n",
    "\n",
    "def deriv_sig(x):\n",
    "\treturn x * (1-x)\n",
    "\n",
    "epoch = 5000\n",
    "lr = 0.1\n",
    "inp = 2\n",
    "hid = 3\n",
    "out = 1\n",
    "\n",
    "wh = np.random.uniform(size = (inp, hid))\n",
    "bh = np.random.uniform(size = (1, hid))\n",
    "wout = np.random.uniform(size = (hid, out))\n",
    "bout = np.random.uniform(size = (1, out))\n",
    "\n",
    "for i in range(epoch):\n",
    "\t#Forward Propogation\n",
    "\thidden = sigmoid(np.dot(X, wh) + bh)\n",
    "\toutput = sigmoid(np.dot(hidden, wout) + bout)\n",
    "\t#Backward Propogation\n",
    "\td_output = (Y-output) * deriv_sig(output)\n",
    "\td_hidden = d_output.dot(wout.T) * deriv_sig(hidden)\n",
    "\n",
    "\t#Updating Weights\n",
    "\twout += hidden.T.dot(d_output) * lr\n",
    "\twh += X.T.dot(d_hidden) * lr\n",
    "\n",
    "print(f\"Input : \\n{X}\")\n",
    "print(f\"Actual Output : \\n{Y}\")\n",
    "print(f\"Predicted Output : \\n{output}\")\n"
   ]
  }
 ],
 "metadata": {
  "interpreter": {
   "hash": "1baa965d5efe3ac65b79dfc60c0d706280b1da80fedb7760faf2759126c4f253"
  },
  "kernelspec": {
   "display_name": "Python 3.8.6rc1 64-bit",
   "language": "python",
   "name": "python3"
  },
  "language_info": {
   "codemirror_mode": {
    "name": "ipython",
    "version": 3
   },
   "file_extension": ".py",
   "mimetype": "text/x-python",
   "name": "python",
   "nbconvert_exporter": "python",
   "pygments_lexer": "ipython3",
   "version": "3.8.6"
  },
  "orig_nbformat": 4
 },
 "nbformat": 4,
 "nbformat_minor": 2
}
