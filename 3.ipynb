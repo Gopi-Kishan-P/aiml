{
 "cells": [
  {
   "cell_type": "code",
   "execution_count": 4,
   "metadata": {},
   "outputs": [
    {
     "name": "stdout",
     "output_type": "stream",
     "text": [
      "G[0] : [['?', '?', '?', '?', '?', '?'], ['?', '?', '?', '?', '?', '?'], ['?', '?', '?', '?', '?', '?'], ['?', '?', '?', '?', '?', '?'], ['?', '?', '?', '?', '?', '?'], ['?', '?', '?', '?', '?', '?']]\n",
      "S[0] : ['sunny', 'warm', 'high', 'strong', 'warm', 'same']\n",
      "\n",
      "G[1] : [['?', '?', '?', '?', '?', '?'], ['?', '?', '?', '?', '?', '?'], ['?', '?', '?', '?', '?', '?'], ['?', '?', '?', '?', '?', '?'], ['?', '?', '?', '?', '?', '?'], ['?', '?', '?', '?', '?', '?']]\n",
      "S[1] : ['sunny', 'warm', '?', 'strong', 'warm', 'same']\n",
      "\n",
      "G[2] : [['?', '?', '?', '?', '?', '?'], ['?', '?', '?', '?', '?', '?'], ['?', '?', '?', '?', '?', '?'], ['?', '?', '?', '?', '?', '?'], ['?', '?', '?', '?', '?', '?'], ['?', '?', '?', '?', '?', '?']]\n",
      "S[2] : ['sunny', 'warm', '?', 'strong', 'warm', 'same']\n",
      "\n",
      "G[3] : [['sunny', '?', '?', '?', '?', '?'], ['?', 'warm', '?', '?', '?', '?'], ['?', '?', '?', '?', '?', '?'], ['?', '?', '?', '?', '?', '?'], ['?', '?', '?', '?', '?', '?'], ['?', '?', '?', '?', '?', 'same']]\n",
      "S[3] : ['sunny', 'warm', '?', 'strong', 'warm', 'same']\n",
      "\n",
      "G[4] : [['sunny', '?', '?', '?', '?', '?'], ['?', 'warm', '?', '?', '?', '?'], ['?', '?', '?', '?', '?', '?'], ['?', '?', '?', '?', '?', '?'], ['?', '?', '?', '?', '?', '?'], ['?', '?', '?', '?', '?', '?']]\n",
      "S[4] : ['sunny', 'warm', '?', 'strong', '?', '?']\n",
      "\n",
      "\n",
      "Final\n",
      "\n",
      "G : [['sunny', '?', '?', '?', '?', '?'], ['?', 'warm', '?', '?', '?', '?']]\n",
      "S : ['sunny', 'warm', '?', 'strong', '?', '?']\n"
     ]
    }
   ],
   "source": [
    "import csv\n",
    "\n",
    "with open(\"weather.csv\") as f:\n",
    "\tdata = list(csv.reader(f))\n",
    "\ts = data[1][:-1]\n",
    "\tg = [['?' for i in range(len(s))] for j in range(len(s))]\n",
    "\n",
    "\tprint(f\"G[0] : {g}\")\n",
    "\tprint(f\"S[0] : {s}\")\n",
    "\n",
    "\tfor i in data:\n",
    "\t\tif i[-1] == 'Y':\n",
    "\t\t\tfor j in range(len(s)):\n",
    "\t\t\t\tif i[j] != s[j]:\n",
    "\t\t\t\t\ts[j] = '?'\n",
    "\t\t\t\t\tg[j][j] = '?'\n",
    "\t\telif i[-1] == 'N':\n",
    "\t\t\tfor j in range(len(s)):\n",
    "\t\t\t\tif i[j] != s[j]:\n",
    "\t\t\t\t\tg[j][j] = s[j]\n",
    "\t\t\t\telse:\n",
    "\t\t\t\t\tg[j][j] = '?'\n",
    "\t\tind = data.index(i) + 1\n",
    "\t\tprint(f\"\\nG[{ind}] : {g}\")\n",
    "\t\tprint(f\"S[{ind}] : {s}\")\n",
    "\t\n",
    "\tgh = []\n",
    "\tfor i in g:\n",
    "\t\tfor j in i:\n",
    "\t\t\tif j!='?':\n",
    "\t\t\t\tgh.append(i)\n",
    "\tprint(\"\\n\\nFinal\")\n",
    "\tprint(f\"\\nG : {gh}\")\n",
    "\tprint(f\"S : {s}\")\t"
   ]
  }
 ],
 "metadata": {
  "interpreter": {
   "hash": "1baa965d5efe3ac65b79dfc60c0d706280b1da80fedb7760faf2759126c4f253"
  },
  "kernelspec": {
   "display_name": "Python 3.8.6rc1 64-bit",
   "language": "python",
   "name": "python3"
  },
  "language_info": {
   "codemirror_mode": {
    "name": "ipython",
    "version": 3
   },
   "file_extension": ".py",
   "mimetype": "text/x-python",
   "name": "python",
   "nbconvert_exporter": "python",
   "pygments_lexer": "ipython3",
   "version": "3.8.6rc1"
  },
  "orig_nbformat": 4
 },
 "nbformat": 4,
 "nbformat_minor": 2
}
